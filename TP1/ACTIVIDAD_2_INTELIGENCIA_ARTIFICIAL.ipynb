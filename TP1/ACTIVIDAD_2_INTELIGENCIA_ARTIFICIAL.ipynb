{
  "nbformat": 4,
  "nbformat_minor": 0,
  "metadata": {
    "colab": {
      "provenance": [],
      "authorship_tag": "ABX9TyPYOO1HZlhSQDDC7T2hGecR",
      "include_colab_link": true
    },
    "kernelspec": {
      "name": "python3",
      "display_name": "Python 3"
    },
    "language_info": {
      "name": "python"
    }
  },
  "cells": [
    {
      "cell_type": "markdown",
      "metadata": {
        "id": "view-in-github",
        "colab_type": "text"
      },
      "source": [
        "<a href=\"https://colab.research.google.com/github/LilianaMendez/INTELIGENCIA-ARTIFICIAL-ACTIVIDAD2/blob/main/TP1/ACTIVIDAD_2_INTELIGENCIA_ARTIFICIAL.ipynb\" target=\"_parent\"><img src=\"https://colab.research.google.com/assets/colab-badge.svg\" alt=\"Open In Colab\"/></a>"
      ]
    },
    {
      "cell_type": "code",
      "execution_count": null,
      "metadata": {
        "colab": {
          "base_uri": "https://localhost:8080/"
        },
        "id": "DstYwGLdvN8e",
        "outputId": "2abc6f7d-6fc5-4763-8c34-480baf8daaa7"
      },
      "outputs": [
        {
          "output_type": "stream",
          "name": "stdout",
          "text": [
            "Ruta desde Estación A hasta Estación B:\n",
            "Estación A -> Estación B\n"
          ]
        }
      ],
      "source": [
        "import networkx as nx\n",
        "\n",
        "#1\n",
        "red_transporte = nx.DiGraph()\n",
        "\n",
        "#2\n",
        "red_transporte.add_edge(\"Estación A\", \"Estación B\", distancia=10)\n",
        "\n",
        "\n",
        "# 3\n",
        "def obtener_ruta(origen, destino):\n",
        "    # 4 \n",
        "    ruta_mas_corta = nx.dijkstra_path(red_transporte, origen, destino, weight=\"distancia\")\n",
        "    distancia_total = nx.dijkstra_path_length(red_transporte, origen, destino, weight=\"distancia\")\n",
        "\n",
        "    return ruta_mas_corta, distancia_total\n",
        "\n",
        "# 5\n",
        "punto_a = \"Estación A\"\n",
        "punto_b = \"Estación B\"\n",
        "\n",
        "# 6\n",
        "ruta, distancia = obtener_ruta(punto_a, punto_b)\n",
        "\n",
        "#7\n",
        "print(f\"Ruta desde {punto_a} hasta {punto_b}:\")\n",
        "print(\" -> \".join(ruta))\n"
      ]
    },
    {
      "cell_type": "code",
      "source": [
        "import matplotlib.pyplot as plt\n",
        "\n",
        "def trazar_ruta(punto_a, punto_b):\n",
        "    #8\n",
        "    x_a, y_a = punto_a\n",
        "    x_b, y_b = punto_b\n",
        "\n",
        "    # 9\n",
        "    x_ruta = [x_a, x_b]\n",
        "    y_ruta = [y_a, y_b]\n",
        "\n",
        "    # 10\n",
        "    plt.plot(x_ruta, y_ruta, marker='o')\n",
        "\n",
        "    # 11\n",
        "    plt.text(x_a, y_a, 'A', ha='right')\n",
        "    plt.text(x_b, y_b, 'B', ha='left')\n",
        "\n",
        "    # 12\n",
        "    plt.xlim(min(x_a, x_b) - 1, max(x_a, x_b) + 1)\n",
        "    plt.ylim(min(y_a, y_b) - 1, max(y_a, y_b) + 1)\n",
        "\n",
        "    # 13\n",
        "    plt.show()\n",
        "\n",
        "# 14\n",
        "punto_a = (1, 2)\n",
        "punto_b = (4, 6)\n",
        "\n",
        "# 15 \n",
        "trazar_ruta(punto_a, punto_b)"
      ],
      "metadata": {
        "colab": {
          "base_uri": "https://localhost:8080/",
          "height": 435
        },
        "id": "UqVJNonF6RUV",
        "outputId": "d4a02233-8557-421c-dc20-ad0b23246a98"
      },
      "execution_count": 1,
      "outputs": [
        {
          "output_type": "display_data",
          "data": {
            "text/plain": [
              "<Figure size 640x480 with 1 Axes>"
            ],
            "image/png": "[encoded data removed]"
          },
          "metadata": {}
        }
      ]
    }
  ]
}